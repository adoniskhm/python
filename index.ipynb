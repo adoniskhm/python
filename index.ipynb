{
 "cells": [
  {
   "cell_type": "code",
   "execution_count": 6,
   "metadata": {},
   "outputs": [
    {
     "name": "stdout",
     "output_type": "stream",
     "text": [
      "['happy', 'nice']\n"
     ]
    }
   ],
   "source": [
    "a = [\"good\", \"bad\", \"nice\"]\n",
    "\n",
    "a[1] = \"happy\"\n",
    "del a[0]\n",
    "\n",
    "print(a)"
   ]
  },
  {
   "cell_type": "code",
   "execution_count": 7,
   "metadata": {},
   "outputs": [],
   "source": [
    "b = \"hoppy\"\n",
    "\n",
    "# b[1] = \"a\" #immutable 한 속성으로 문자열은 리스트 처럼 변경시 에러\n",
    "# del b[1] #del 또한 마찬가지 리스트에서는 가능하지만 문자열에서는 불가능\n",
    "\n",
    "# print(b[1])"
   ]
  },
  {
   "cell_type": "code",
   "execution_count": 11,
   "metadata": {},
   "outputs": [
    {
     "name": "stdout",
     "output_type": "stream",
     "text": [
      "('apple', 'grape', 'orange')\n",
      "grape\n"
     ]
    },
    {
     "ename": "TypeError",
     "evalue": "'tuple' object doesn't support item deletion",
     "output_type": "error",
     "traceback": [
      "\u001b[1;31m---------------------------------------------------------------------------\u001b[0m",
      "\u001b[1;31mTypeError\u001b[0m                                 Traceback (most recent call last)",
      "Cell \u001b[1;32mIn[11], line 5\u001b[0m\n\u001b[0;32m      3\u001b[0m \u001b[38;5;28mprint\u001b[39m(fruits[\u001b[38;5;241m1\u001b[39m])\n\u001b[0;32m      4\u001b[0m \u001b[38;5;66;03m# fruits[1] = 'banana'\u001b[39;00m\n\u001b[1;32m----> 5\u001b[0m \u001b[38;5;28;01mdel\u001b[39;00m \u001b[43mfruits\u001b[49m\u001b[43m[\u001b[49m\u001b[38;5;241;43m1\u001b[39;49m\u001b[43m]\u001b[49m\n",
      "\u001b[1;31mTypeError\u001b[0m: 'tuple' object doesn't support item deletion"
     ]
    }
   ],
   "source": [
    "fruits = ('apple', 'grape', 'orange')\n",
    "print(fruits)\n",
    "print(fruits[1])\n",
    "# fruits[1] = 'banana' #튜플은 리스트와 달리 변경불가\n",
    "# del fruits[1] #마찬가지 리스트와 달리 삭제 또한 불가"
   ]
  },
  {
   "cell_type": "code",
   "execution_count": 13,
   "metadata": {},
   "outputs": [
    {
     "name": "stdout",
     "output_type": "stream",
     "text": [
      "<class 'int'>\n",
      "<class 'tuple'>\n",
      "<class 'tuple'>\n"
     ]
    }
   ],
   "source": [
    "t1 = (10)\n",
    "t2 = (10,)\n",
    "t3 = 1, 2, 3\n",
    "# 튜플의 경우 데이터가 1개 뿐일 때 콤마가 없으면 문자나 숫자로 인식하며 콤마를 찍어주면 튜플로 인식한다. 또 괄호없이 콤마로 데이터가 나열된 경우 튜플로 인식한다.\n",
    "\n",
    "print(type(t1))\n",
    "print(type(t2))\n",
    "print(type(t3))"
   ]
  },
  {
   "cell_type": "code",
   "execution_count": null,
   "metadata": {},
   "outputs": [],
   "source": []
  }
 ],
 "metadata": {
  "kernelspec": {
   "display_name": "Python 3",
   "language": "python",
   "name": "python3"
  },
  "language_info": {
   "codemirror_mode": {
    "name": "ipython",
    "version": 3
   },
   "file_extension": ".py",
   "mimetype": "text/x-python",
   "name": "python",
   "nbconvert_exporter": "python",
   "pygments_lexer": "ipython3",
   "version": "3.12.6"
  }
 },
 "nbformat": 4,
 "nbformat_minor": 2
}
